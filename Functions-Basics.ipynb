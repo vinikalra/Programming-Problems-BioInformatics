{
 "cells": [
  {
   "cell_type": "markdown",
   "metadata": {},
   "source": [
    "## Basics : Functions"
   ]
  },
  {
   "cell_type": "code",
   "execution_count": null,
   "metadata": {
    "collapsed": true
   },
   "outputs": [],
   "source": [
    "\n",
    "def hello():\n",
    "    \"\"\"\n",
    "    Prints \"Hello World\"\n",
    "    :return: None\n",
    "    \"\"\"\n",
    "    print(\"Hello World\")\n",
    "    return \n",
    "\n",
    "def percent_decimal(i):\n",
    "    \"\"\"\n",
    "    Converts a percentage to a decimal or a decimal to a percentage depending on the input i\n",
    "    :param i: a float between 0 and 100\n",
    "    :return: a float between 0 and 100\n",
    "    \"\"\"\n",
    "    if 0<=i<=1:\n",
    "        p1 = i*100  \n",
    "    else :\n",
    "        p1 = i/100\n",
    "    \n",
    "    return p1\n",
    "\n",
    "def exponent(integer, power):\n",
    "    \"\"\"\n",
    "    Using a loop (no imports!), raise the integer given to the power provided. (integer^power)\n",
    "    :param integer: a positive, non zero, integer\n",
    "    :param power: a positive, non zero, integer\n",
    "    :return: an integer\n",
    "    \"\"\"\n",
    "    powerInc = power+1;\n",
    "    num = 1;\n",
    "    for x in range(1, powerInc) :\n",
    "        num = num*integer;\n",
    "    return num\n",
    "\n",
    "def complement(dna):\n",
    "    \"\"\"\n",
    "    Returns the complement strand of DNA to the input.  C <--> G,  A <--> T\n",
    "    :param dna: String containing only C, T, A, and G\n",
    "    :return: String containing only C, T, A, and G\n",
    "    \"\"\"\n",
    "    complementStr = \"\"\n",
    "        \n",
    "    for i in range(0,len(dna)) :      \n",
    "        if dna[i]==\"C\":\n",
    "                   complementStr += \"G\"\n",
    "        if dna[i]==\"G\":\n",
    "                   complementStr += \"C\"\n",
    "        if dna[i]==\"A\":\n",
    "                   complementStr += \"T\"\n",
    "        if dna[i]==\"T\":\n",
    "                   complementStr += \"A\"\n",
    "        \n",
    "    return complementStr\n"
   ]
  }
 ],
 "metadata": {
  "kernelspec": {
   "display_name": "Python 3",
   "language": "python",
   "name": "python3"
  },
  "language_info": {
   "codemirror_mode": {
    "name": "ipython",
    "version": 3
   },
   "file_extension": ".py",
   "mimetype": "text/x-python",
   "name": "python",
   "nbconvert_exporter": "python",
   "pygments_lexer": "ipython3",
   "version": "3.6.0"
  }
 },
 "nbformat": 4,
 "nbformat_minor": 2
}
