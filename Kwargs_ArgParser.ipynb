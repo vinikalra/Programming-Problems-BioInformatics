{
 "cells": [
  {
   "cell_type": "markdown",
   "metadata": {},
   "source": [
    "# Keyword arguments and Argument Parser"
   ]
  },
  {
   "cell_type": "code",
   "execution_count": null,
   "metadata": {
    "collapsed": true
   },
   "outputs": [],
   "source": [
    "\"\"\"\n",
    "1) Define 'compute' which takes in only **kwargs and meets the following specifications:\n",
    "    - ensure that the key word 'input' is always be a list of integers before proceeding\n",
    "    - if the key word 'action' is 'sum' then return the sum of all integers\n",
    "    - if the key word 'action' is 'mean' then return  the mean of all integers\n",
    "    - if the key word 'return_float' is 'True', then any return value should be a float\n",
    "\n",
    "2) Implement an argument parser as a main function that meets the following requirements:\n",
    "    - when run from terminal, your program should be able to accept any number of arguments\n",
    "    - if -s is used, your program should print the sum of all arguments\n",
    "        python3 abc.py -s 1 5 20\n",
    "        26\n",
    "    - if -m is used, your program should multiply each value by the value of -m and print the result\n",
    "        python3 abc.py -m 5 1 5 20\n",
    "        5\n",
    "        25\n",
    "        100\n",
    "    - program should also have descriptions and help attributes for each argument\n",
    "\n",
    "\"\"\"\n",
    "import sys\n",
    "import argparse\n",
    "\n",
    "def compute(**kwargs):\n",
    "    float_ = kwargs.get('return_float',False)\n",
    "    if 'input' in kwargs:\n",
    "        try:\n",
    "            numbers = [num for num in kwargs['input'] if isinstance(num,int)]\n",
    "            if len(numbers) > 0:\n",
    "                add =  sum(numbers)\n",
    "            else:\n",
    "                print(\"input doesn't  have integer\")\n",
    "        except TypeError:\n",
    "            print(\"input doesn't have integer\")\n",
    "        if kwargs['action'] == 'sum':\n",
    "            result = add\n",
    "        if kwargs['action'] == 'mean':\n",
    "            result =  add/len(numbers)\n",
    "    else:\n",
    "        return None\n",
    "    if (float_):\n",
    "        return float(result)\n",
    "    else:\n",
    "        return result\n",
    "    \n",
    "    \n",
    "def main():\n",
    "    try:\n",
    "        args = parser.parse_args()\n",
    "        add = 0\n",
    "        if args.sum:\n",
    "            for num in range(2,len(sys.argv)):\n",
    "                add = add + int(sys.argv[num]) \n",
    "            print(add)   \n",
    "        elif args.multiply:\n",
    "            for i in range(3,len(sys.argv)):\n",
    "                print(int(sys.argv[2])*int(sys.argv[i]))\n",
    "        else:\n",
    "            print(\"Arguments Not found\")\n",
    "    except:\n",
    "        parser.print_help()\n",
    "        sys.exit(1)\n",
    "\n",
    "if __name__ == '__main__':\n",
    "    parser = argparse.ArgumentParser(description='Function with integer')\n",
    "    parser.add_argument('-m', '--multiply', help='Mutiplication',type=int)\n",
    "    parser.add_argument('-s', '--sum', help='Addition',action='store_true')\n",
    "    parser.add_argument('remainder', help='Everything else', nargs=argparse.REMAINDER)\n",
    "    main()\n"
   ]
  }
 ],
 "metadata": {
  "kernelspec": {
   "display_name": "Python 3",
   "language": "python",
   "name": "python3"
  },
  "language_info": {
   "codemirror_mode": {
    "name": "ipython",
    "version": 3
   },
   "file_extension": ".py",
   "mimetype": "text/x-python",
   "name": "python",
   "nbconvert_exporter": "python",
   "pygments_lexer": "ipython3",
   "version": "3.6.0"
  }
 },
 "nbformat": 4,
 "nbformat_minor": 2
}
