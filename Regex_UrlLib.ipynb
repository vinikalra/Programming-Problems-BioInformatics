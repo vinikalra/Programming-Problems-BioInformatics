{
 "cells": [
  {
   "cell_type": "markdown",
   "metadata": {},
   "source": [
    "## Regex and UrlLib definitions"
   ]
  },
  {
   "cell_type": "code",
   "execution_count": null,
   "metadata": {
    "collapsed": true
   },
   "outputs": [],
   "source": [
    "\n",
    "import urllib\n",
    "import re\n",
    "import urllib.request as ur\n",
    "def get_sra_xml(sra_run_id):\n",
    "    \"\"\"\n",
    "    The Sequence Read Archive (SRA) is the worlds largest database of raw sequencing data.\n",
    "    This definition takes in the run_id of one dataset and downloads the xml metadata from the URL below.\n",
    "    For Example:\n",
    "    The return from get_sra_xml('SRR3403834') should start with:\n",
    "    '<RunViewer run=\"srr3403834\"> ...'\n",
    "    :param sra_run_id: string\n",
    "    :return: **A string**  not b'my_string' <- the b is for byte, this is a byte string\n",
    "    \"\"\"\n",
    "    \n",
    "    url = \"http://www.ncbi.nlm.nih.gov/Traces/sra/?run={}&experimental=1&retmode=xml\".format(sra_run_id)\n",
    "    string = ur.urlopen(url).read().decode()\n",
    "    \n",
    "    return string\n",
    "\n",
    "def get_filesize(string):\n",
    "    \"\"\"\n",
    "    Using the string returned from get_sra_xml(), finds the file size of the sra run (it is in bytes),\n",
    "    convert it to gigabytes and returns it as a float.\n",
    "    For Example:\n",
    "    get_filesize('SRR3403834')  should return\n",
    "    1.411331958\n",
    "    :param string: the xml metadata document in string format from get_sra_xml()\n",
    "    :return: a float\n",
    "    \"\"\"\n",
    "    string = get_sra_xml(string)\n",
    "    pattern = re.compile(r'size.*?([0-9.-]+)')\n",
    "    size = re.search(pattern,string)\n",
    "\n",
    "    return float(size.group(1))/(10**9)\n",
    "\n",
    "\n",
    "def get_protein_fasta(uniprot_id):\n",
    "    \"\"\"\n",
    "    Uniprot is a database of protein sequence data. Given the uniprot_id of a protein,\n",
    "    and using urllib, return only the sequence (not the header) from the fasta entry.\n",
    "    Be sure to remove new line characters from the protein sequence.\n",
    "    EX:\n",
    "    get_protein_fasta('P69892')   should return 'MGHFTEEDKATITSLWGKVNVEDAGGETLGRLLVVYPWTQRFFDSFGNLSSASAIMGNPKVKAHGKKVLTSLGDAIKHLDDLKGTFAQLSELHCDKLHVDPENFKLLGNVLVTVLAIHFGKEFTPEVQASWQKMVTGVASALSSRYH'\n",
    "    :param uniprot_id: string\n",
    "    :return: string\n",
    "    \"\"\"\n",
    "    url = \"http://www.uniprot.org/uniprot/{}.fasta\".format(uniprot_id)\n",
    "    string = re.split(\"\\n\",ur.urlopen(url).read().decode(),1)[1]\n",
    "    return re.sub(\"\\n\",\"\",string)"
   ]
  }
 ],
 "metadata": {
  "kernelspec": {
   "display_name": "Python 3",
   "language": "python",
   "name": "python3"
  },
  "language_info": {
   "codemirror_mode": {
    "name": "ipython",
    "version": 3
   },
   "file_extension": ".py",
   "mimetype": "text/x-python",
   "name": "python",
   "nbconvert_exporter": "python",
   "pygments_lexer": "ipython3",
   "version": "3.6.0"
  }
 },
 "nbformat": 4,
 "nbformat_minor": 2
}
