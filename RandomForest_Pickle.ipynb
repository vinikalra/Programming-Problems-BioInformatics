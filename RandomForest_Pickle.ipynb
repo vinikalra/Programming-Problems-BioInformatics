{
 "cells": [
  {
   "cell_type": "markdown",
   "metadata": {},
   "source": [
    "# Random Forest and pickle"
   ]
  },
  {
   "cell_type": "code",
   "execution_count": null,
   "metadata": {
    "collapsed": true
   },
   "outputs": [],
   "source": [
    "\"\"\"\n",
    "1) \"forest_predictor\" definition should:\n",
    "    - accept one mandatory string argument, a string corresponding to the file path of the CSV file to be read\n",
    "    - accept one mandatory integer argument, the column containing the classification values (0 based),\n",
    "            this column should be removed from your training data and stored in its own list\n",
    "    - accept **kwargs for the cases:\n",
    "        - header = bool   -> if True: remove the first row after reading the CSV file\n",
    "        - save = string   -> check if a file with the name exists, if so, load it with pickle and do not train\n",
    "            a new classifier, if the file does not exist, train a classifier and save it to this location with pickle\n",
    "        - test = 2d list  -> predict the classifications of this test data set and print the resulting list\n",
    "    - always return the classifier object\n",
    "    - check for **kwargs using kwargs.get() and default to False or None!\n",
    "        EX: header_exists = kwargs.get('header', False)\n",
    "        NOT: header_exists = kwargs['header']  # crashes if header was not specified\n",
    "\"\"\"\n",
    "import pickle\n",
    "import os.path\n",
    "from sklearn.ensemble import RandomForestClassifier\n",
    "\n",
    "def forest_predictor(file_location, column, **kwargs):\n",
    "    \n",
    "    #read the CSV file into a 2d array\n",
    "    with open(file_location,'r') as infile:\n",
    "        data = [line.replace('\\n', '').split(',') for line in infile]\n",
    "    header_exists = kwargs.get('header', False)\n",
    "    if(header_exists):\n",
    "        # x is the data without the classification\n",
    "        x = data[1:]  # trim the header line\n",
    "        y = data[1:]\n",
    "\n",
    "    x = [line[:-1] for line in x] \n",
    "    y = [line[column] for line in y]\n",
    "\n",
    "    save_location = kwargs.get('save',None)\n",
    "\n",
    "    if save_location is not None:\n",
    "        \n",
    "        if os.path.isfile(save_location):\n",
    "            with open(save_location, 'rb') as infile:\n",
    "                clf = pickle.load(infile)\n",
    "\n",
    "        else:\n",
    "            # create and fit a RF classifier\n",
    "            clf = RandomForestClassifier(n_estimators=500)\n",
    "            clf = clf.fit(x, y)\n",
    "            with open(save_location, 'wb') as outfile:\n",
    "                pickle.dump(clf, outfile)\n",
    "\n",
    "    else:\n",
    "        clf = RandomForestClassifier(n_estimators=500)\n",
    "        clf = clf.fit(x, y)\n",
    "\n",
    "        \n",
    "    print(clf.predict(kwargs.get('test',[])))\n",
    "    return clf\n",
    "\n",
    "if __name__ == '__main__':\n",
    "    #This example uses the training and testing data from lecture_11, a 'large_dataset.csv' is also available, but not required\n",
    "    x = [[15,0], [18,60000], [80,30000]]\n",
    "    clf = forest_predictor('test_files/simple_data.csv', 2, header=True, save='saves/random_forest.p', test=x)\n",
    "    # should print ['0', '1', '1'] and return the classifier so that feature_importances_ can be printed\n",
    "    print(clf.feature_importances_)"
   ]
  }
 ],
 "metadata": {
  "kernelspec": {
   "display_name": "Python 3",
   "language": "python",
   "name": "python3"
  },
  "language_info": {
   "codemirror_mode": {
    "name": "ipython",
    "version": 3
   },
   "file_extension": ".py",
   "mimetype": "text/x-python",
   "name": "python",
   "nbconvert_exporter": "python",
   "pygments_lexer": "ipython3",
   "version": "3.6.0"
  }
 },
 "nbformat": 4,
 "nbformat_minor": 2
}
