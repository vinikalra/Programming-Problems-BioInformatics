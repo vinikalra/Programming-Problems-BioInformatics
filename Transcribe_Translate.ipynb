{
 "cells": [
  {
   "cell_type": "markdown",
   "metadata": {},
   "source": [
    "# Dictionary for Complement"
   ]
  },
  {
   "cell_type": "code",
   "execution_count": 1,
   "metadata": {
    "collapsed": true
   },
   "outputs": [],
   "source": [
    "def fast_complement(dna):\n",
    "    \"\"\"\n",
    "    Uses a dictionary to convert a DNA sequence into the complement strand.  C <--> G,  T <--> A\n",
    "    :param dna: a string containing only the characters C, T, A, and G\n",
    "    :return: a string containing only the characters C, T, A, and G\n",
    "    \"\"\"\n",
    "    compDna =\"\"\n",
    "    DNAdef = {'A': 'T', 'T': 'A', 'C':'G', 'G':'C'}\n",
    "    for i in dna:\n",
    "        compDna += DNAdef[i]\n",
    "    return compDna\n"
   ]
  },
  {
   "cell_type": "markdown",
   "metadata": {},
   "source": [
    "# String Slicing"
   ]
  },
  {
   "cell_type": "code",
   "execution_count": 2,
   "metadata": {
    "collapsed": true
   },
   "outputs": [],
   "source": [
    "def remove_interval(s, start, stop):\n",
    "    \"\"\"\n",
    "    Removes the interval of characters from a string or list inclusively, 0 based\n",
    "    EX: remove_intervals('ABCDEFGHI', 2, 5) will return 'ABGHI'.\n",
    "    :param s: a string\n",
    "    :param start: a non-negative integer\n",
    "    :param stop: a non-negative integer greater than the start integer.\n",
    "    :return: a string\n",
    "    \"\"\"\n",
    "    s1 = s[:start] + s[stop + 1:]\n",
    "    return s1"
   ]
  },
  {
   "cell_type": "markdown",
   "metadata": {},
   "source": [
    "# Transcription and Translation"
   ]
  },
  {
   "cell_type": "code",
   "execution_count": 5,
   "metadata": {
    "collapsed": true
   },
   "outputs": [],
   "source": [
    "def reverse_complement(dna):\n",
    "    \"\"\"\n",
    "    Returns the strand of DNA that is the reverse complement of the sequence given\n",
    "    :param dna: a string containing only the characters C, T, A, and G\n",
    "    :return: a string containing only the characters C, T, A, and G\n",
    "    \"\"\"\n",
    "    compDna =\"\"\n",
    "    DNAdef = {'A': 'T', 'T': 'A', 'C':'G', 'G':'C'}\n",
    "    for i in dna:\n",
    "        compDna += DNAdef[i]\n",
    "    revComp = \"\"\n",
    "    for i in compDna:\n",
    "        revComp = i + revComp\n",
    "    return revComp\n",
    "\n",
    "def transcribe(dna):\n",
    "    \"\"\"\n",
    "    Transcribes a string of DNA into RNA\n",
    "    :param dna: a string containing only the characters C, T, A, and G\n",
    "    :return: a string containing only the characters C, U, A, and G\n",
    "    \"\"\"\n",
    "    rna  = dna.replace('T','U')\n",
    "    return rna\n",
    "\n",
    "\n",
    "def translate(rna):\n",
    "    \"\"\"\n",
    "    Translates the strand of RNA given into its amino acid composition.\n",
    "    DO NOT INCLUDE * IN YOUR RETURN STRING\n",
    "    :param rna: a string containing only the characters C, U, A, and G\n",
    "    :return: a string containing only the characters G, A, L, M, F, W, K, Q, E, S, P, V, I, C, Y, H, R, N, D, and T\n",
    "    \"\"\"\n",
    "    RNA_CODON_TABLE = {\"UUU\": \"F\", \"UUC\": \"F\", \"UUA\": \"L\", \"UUG\": \"L\",\n",
    "           \"UCU\": \"S\", \"UCC\": \"S\", \"UCA\": \"S\", \"UCG\": \"S\",\n",
    "           \"UAU\": \"Y\", \"UAC\": \"Y\", \"UAA\": \"*\", \"UAG\": \"*\",\n",
    "           \"UGU\": \"C\", \"UGC\": \"C\", \"UGA\": \"*\", \"UGG\": \"W\",\n",
    "           \"CUU\": \"L\", \"CUC\": \"L\", \"CUA\": \"L\", \"CUG\": \"L\",\n",
    "           \"CCU\": \"P\", \"CCC\": \"P\", \"CCA\": \"P\", \"CCG\": \"P\",\n",
    "           \"CAU\": \"H\", \"CAC\": \"H\", \"CAA\": \"Q\", \"CAG\": \"Q\",\n",
    "           \"CGU\": \"R\", \"CGC\": \"R\", \"CGA\": \"R\", \"CGG\": \"R\",\n",
    "           \"AUU\": \"I\", \"AUC\": \"I\", \"AUA\": \"I\", \"AUG\": \"M\",\n",
    "           \"ACU\": \"T\", \"ACC\": \"T\", \"ACA\": \"T\", \"ACG\": \"T\",\n",
    "           \"AAU\": \"N\", \"AAC\": \"N\", \"AAA\": \"K\", \"AAG\": \"K\",\n",
    "           \"AGU\": \"S\", \"AGC\": \"S\", \"AGA\": \"R\", \"AGG\": \"R\",\n",
    "           \"GUU\": \"V\", \"GUC\": \"V\", \"GUA\": \"V\", \"GUG\": \"V\",\n",
    "           \"GCU\": \"A\", \"GCC\": \"A\", \"GCA\": \"A\", \"GCG\": \"A\",\n",
    "           \"GAU\": \"D\", \"GAC\": \"D\", \"GAA\": \"E\", \"GAG\": \"E\",\n",
    "           \"GGU\": \"G\", \"GGC\": \"G\", \"GGA\": \"G\", \"GGG\": \"G\"}\n",
    "    \n",
    "    amino=''\n",
    "    for i in range(0,len(rna)-2,3):\n",
    "        newS = rna[i:i+3]\n",
    "        amino += RNA_CODON_TABLE.get(newS)\n",
    "    amino = amino.replace('*','')\n",
    "    return amino\n",
    "\n",
    "def reading_frames(dna):\n",
    "    \"\"\"\n",
    "    Generates a list of all 6 possible reading frames for a given strand of DNA\n",
    "    For the non-biologists: https://en.wikipedia.org/wiki/Open_reading_frame\n",
    "    :param dna: a string containing only the characters C, T, A, and G\n",
    "    :return: a list of 6 strings containing only C, T, A, and G\n",
    "    \"\"\"\n",
    "    my_rf = []\n",
    "\n",
    "    rf1 =''\n",
    "    rf2 = dna[0]\n",
    "    rf3 = dna[0:2]\n",
    "    rf4 =''    \n",
    "        \n",
    "    DNAdef = {'A': 'T', 'T': 'A', 'C':'G', 'G':'C'}    \n",
    "\n",
    "    compDna =''\n",
    "    for i in dna:\n",
    "        compDna += DNAdef[i]\n",
    "    \n",
    "    revComp = \"\"\n",
    "    for i in compDna:\n",
    "        revComp = i + revComp\n",
    "    \n",
    "    rf5 = revComp[0:2]\n",
    "    rf6 = revComp[0]    \n",
    "    \n",
    "    for i in range(0,len(dna)-2,3):\n",
    "        rf1 += dna[i:i+3] + ' '\n",
    "        rf2 += ' ' + dna[i+1:i+4]   \n",
    "        rf3 += ' ' + dna[i+2:i+5]\n",
    "        rf4 += revComp[i:i+3] + ' '\n",
    "        rf5 += ' ' + revComp[i+2:i+5]\n",
    "        rf6 += ' ' + revComp[i+1:i+4]   \n",
    "        \n",
    "    my_rf.extend([rf1, rf2, rf3, rf4, rf5, rf6])\n",
    "    \n",
    "    return my_rf"
   ]
  },
  {
   "cell_type": "code",
   "execution_count": null,
   "metadata": {
    "collapsed": true
   },
   "outputs": [],
   "source": []
  }
 ],
 "metadata": {
  "kernelspec": {
   "display_name": "Python 3",
   "language": "python",
   "name": "python3"
  },
  "language_info": {
   "codemirror_mode": {
    "name": "ipython",
    "version": 3
   },
   "file_extension": ".py",
   "mimetype": "text/x-python",
   "name": "python",
   "nbconvert_exporter": "python",
   "pygments_lexer": "ipython3",
   "version": "3.6.0"
  }
 },
 "nbformat": 4,
 "nbformat_minor": 2
}
