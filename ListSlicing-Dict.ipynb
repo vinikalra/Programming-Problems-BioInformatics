{
 "cells": [
  {
   "cell_type": "markdown",
   "metadata": {},
   "source": [
    "## List Slicing and Dictionary"
   ]
  },
  {
   "cell_type": "code",
   "execution_count": 1,
   "metadata": {
    "collapsed": true
   },
   "outputs": [],
   "source": [
    "import collections\n",
    "from collections import Counter\n",
    "\n",
    "def first_elements(my_list, n):\n",
    "    \"\"\"\n",
    "    returns the first n elements in a list.\n",
    "    EX: first_element([0, 1, 2, 3], 2) should return [0, 1]\n",
    "    :param my_list: a non-empty list\n",
    "    :param n: an integer greater than 0\n",
    "    :return: a list of length n\n",
    "    \"\"\"\n",
    "    firstE = my_list[:n]\n",
    "    return firstE\n",
    "\n",
    "def last_element(my_list, n):\n",
    "    \"\"\"\n",
    "    returns the last n elements in a list.\n",
    "    EX: last_element([0, 1, 2, 3], 2) should return [2, 3]\n",
    "    :param my_list: a non-empty list\n",
    "    :param n: an integer greater than 0\n",
    "    :return: a list of length n\n",
    "    \"\"\"\n",
    "    lastE = my_list[n:]\n",
    "    return lastE\n",
    "\n",
    "def n_elements(my_list, start, n):\n",
    "    \"\"\"\n",
    "    returns n elements in a list, starting at the position \"start\".\n",
    "    EX: n_elements([0, 1, 2, 3, 4, 5], 2, 3) should return [2, 3, 4]\n",
    "    :param my_list: a non-empty list\n",
    "    :param start: a non-negative integer\n",
    "    :param n: an integer greater than 0\n",
    "    :return: a list of length n\n",
    "    \"\"\"\n",
    "    end = start + n \n",
    "    nE = my_list[start:end]\n",
    "    return nE\n",
    "\n",
    "def count_letters(s):\n",
    "    \"\"\"\n",
    "    returns a dictionary containing each letter in s as a key and\n",
    "    the number of times each letter has occurred as the value\n",
    "    :param s: a string\n",
    "    :return: a dictionary\n",
    "    \"\"\"\n",
    "    data = {}\n",
    "    for i in s:\n",
    "        data[i] = Counter(s)[i]\n",
    "    return data\n",
    "\n",
    "def protein_wight(protein):\n",
    "    \"\"\"\n",
    "    Given a string of amino acids coding for a protein, return the total mass of the protein\n",
    "    :param protiein: a string containing only G, A, L, M, F, W, K, Q, E, S, P, V, I, C, Y, H, R, N, D, and T\n",
    "    :return: a float\n",
    "    \"\"\"\n",
    "    Totalmass = 0\n",
    "    AMINO_ACID_WEIGHTS = {'A': 71.04, 'C': 103.01, 'D': 115.03, 'E': 129.04, 'F': 147.07,\n",
    "                          'G': 57.02, 'H': 137.06, 'I': 113.08, 'K': 128.09, 'L': 113.08,\n",
    "                          'M': 131.04, 'N': 114.04, 'P': 97.05, 'Q': 128.06, 'R': 156.10,\n",
    "                          'S': 87.03, 'T': 101.05, 'V': 99.07, 'W': 186.08, 'Y': 163.06}\n",
    "    \n",
    "    for i in protein:\n",
    "                Totalmass += AMINO_ACID_WEIGHTS[i]\n",
    "              \n",
    "    return Totalmass\n",
    "\n"
   ]
  },
  {
   "cell_type": "code",
   "execution_count": null,
   "metadata": {
    "collapsed": false
   },
   "outputs": [],
   "source": []
  },
  {
   "cell_type": "code",
   "execution_count": null,
   "metadata": {
    "collapsed": true
   },
   "outputs": [],
   "source": []
  }
 ],
 "metadata": {
  "kernelspec": {
   "display_name": "Python 3",
   "language": "python",
   "name": "python3"
  },
  "language_info": {
   "codemirror_mode": {
    "name": "ipython",
    "version": 3
   },
   "file_extension": ".py",
   "mimetype": "text/x-python",
   "name": "python",
   "nbconvert_exporter": "python",
   "pygments_lexer": "ipython3",
   "version": "3.6.0"
  }
 },
 "nbformat": 4,
 "nbformat_minor": 2
}
