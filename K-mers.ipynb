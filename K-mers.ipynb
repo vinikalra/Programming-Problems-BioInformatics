{
 "cells": [
  {
   "cell_type": "markdown",
   "metadata": {},
   "source": [
    "## K-mers : List, Sets, Dict"
   ]
  },
  {
   "cell_type": "code",
   "execution_count": null,
   "metadata": {
    "collapsed": true
   },
   "outputs": [],
   "source": [
    "def kmer_list(s, k):\n",
    "    \"\"\"\n",
    "    Generates all kmers of size k for a string s and store them in a list\n",
    "    :param s: any string\n",
    "    :param k: any integer greater than zero\n",
    "    :return: a list of strings\n",
    "    \"\"\"\n",
    "    my_list = []\n",
    "    for i in range(0,len(s)-k+1):\n",
    "        my_list.append(s[i:i+k])\n",
    "    return my_list\n",
    "\n",
    "def kmer_set(s, k):\n",
    "    \"\"\"\n",
    "    Generates all kmers of size k for a string s and store them in a set\n",
    "    :param s: any string\n",
    "    :param k: any integer greater than zero\n",
    "    :return: a set of strings\n",
    "    \"\"\"\n",
    "    my_set = set()\n",
    "    for i in range(0,len(s)-k+1):\n",
    "        my_set.add(s[i:i+k])        \n",
    "    return my_set\n",
    "\n",
    "def kmer_dict(s, k):\n",
    "    \"\"\"\n",
    "    Generates all kmers of size k for a string s and store them in a dictionary with the\n",
    "    kmer(string) as the key and the number of occurances of the kmer as the value(int).\n",
    "    :param s: any string\n",
    "    :param k: any integer greater than zero\n",
    "    :return: a set of strings\n",
    "    \"\"\"\n",
    "    my_dict = {}\n",
    "    for i in range(0,len(s)-k+1):\n",
    "        newS = s[i:i+k]\n",
    "        if newS in my_dict:\n",
    "            my_dict[newS] += 1\n",
    "        else:\n",
    "            my_dict[newS] = 1\n",
    "    return my_dict"
   ]
  }
 ],
 "metadata": {
  "kernelspec": {
   "display_name": "Python 3",
   "language": "python",
   "name": "python3"
  },
  "language_info": {
   "codemirror_mode": {
    "name": "ipython",
    "version": 3
   },
   "file_extension": ".py",
   "mimetype": "text/x-python",
   "name": "python",
   "nbconvert_exporter": "python",
   "pygments_lexer": "ipython3",
   "version": "3.6.0"
  }
 },
 "nbformat": 4,
 "nbformat_minor": 2
}
