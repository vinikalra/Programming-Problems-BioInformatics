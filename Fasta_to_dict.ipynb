{
 "cells": [
  {
   "cell_type": "markdown",
   "metadata": {},
   "source": [
    "## Reading Sequences into dictionary from Fasta files "
   ]
  },
  {
   "cell_type": "code",
   "execution_count": null,
   "metadata": {
    "collapsed": true
   },
   "outputs": [],
   "source": [
    "\"\"\"\n",
    "For this Exercise we will write one definition that will take in the name of a\n",
    "directory as a string, and return a dictionary containing every sequence in every FASTA file where\n",
    "the sequence header is the key and the DNA sequences are values.\n",
    "\n",
    "Definition will be tested with improperly formatted FASTA files and should handle the following cases:\n",
    "    1) If there are extra new line characters, or empty lines, your program should still process sequences normally\n",
    "    2) If a duplicate header exists between two entries your definition should check to see if the sequences are the same\n",
    "        * If the headers and sequences are identical, your program should print a message that \"a duplicate entry exists\n",
    "          for <header>\" and continue normally.\n",
    "        * If the only the headers match, you should print a message that \"duplicate headers with non-identical\n",
    "          sequences were found for <header>\" and neither entry should be added in the dictionary.\n",
    "          (your print statements don't need to be identical to what I have written here)\n",
    "    3) If a file in the directory is not a fasta file, your program should not open it.\n",
    "    4) If a sequence contains characters that are not A, C, G, or T, then it should not be added to the dictionary.\n",
    "\n",
    "If the program is working correctly, the dictionary should only contain the 4 \"good sequence\"s in the test folder.\n",
    "\n",
    "\"\"\"\n",
    "\n",
    "import os\n",
    "my_dict = {}\n",
    "output = {}\n",
    "\n",
    "def fasta_folder_to_dict(folder_path):\n",
    "    \"\"\"\n",
    "    Constructs a dictionary of all of the FASTA formatted entries from a folder containing FASTA files.\n",
    "    :param folder_path: string\n",
    "    :return: dictionary\n",
    "    \"\"\"\n",
    "   \n",
    "    for file in os.listdir(folder_path):\n",
    "        if not file.endswith('.fasta'):\n",
    "            continue\n",
    "        else:\n",
    "            with open(folder_path + '/' +file, 'r') as fileOB:\n",
    "                text = fileOB.read()\n",
    "                seqs = text.split('>')\n",
    "                for seq in seqs:\n",
    "                    try:\n",
    "                        x = seq.split('\\n', 1)\n",
    "                        header = x[0]\n",
    "                        sequence = x[1].replace('\\n', '')\n",
    "                        if sequence == '':\n",
    "                            continue\n",
    "                        invalidDNA = [x for x in sequence if x not in {'A', 'C', 'T', 'G'}]\n",
    "                        if len(invalidDNA) != 0:\n",
    "                            print('The sequence is invalid [{}]'.format(sequence))\n",
    "                            continue\n",
    "                        if header in my_dict:\n",
    "                            if my_dict[header]== sequence:\n",
    "                                print('Duplicate entry exists for header [{}]'.format(header))\n",
    "                            else: \n",
    "                                del my_dict[header]\n",
    "                        else:\n",
    "                            my_dict[header] = sequence\n",
    "                    except:\n",
    "                        print('')\n",
    "                \n",
    "    return my_dict\n",
    "\n"
   ]
  }
 ],
 "metadata": {
  "kernelspec": {
   "display_name": "Python 3",
   "language": "python",
   "name": "python3"
  },
  "language_info": {
   "codemirror_mode": {
    "name": "ipython",
    "version": 3
   },
   "file_extension": ".py",
   "mimetype": "text/x-python",
   "name": "python",
   "nbconvert_exporter": "python",
   "pygments_lexer": "ipython3",
   "version": "3.6.0"
  }
 },
 "nbformat": 4,
 "nbformat_minor": 2
}
