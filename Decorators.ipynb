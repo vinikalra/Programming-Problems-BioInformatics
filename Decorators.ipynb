{
 "cells": [
  {
   "cell_type": "markdown",
   "metadata": {},
   "source": [
    "# Decorators "
   ]
  },
  {
   "cell_type": "code",
   "execution_count": null,
   "metadata": {
    "collapsed": true
   },
   "outputs": [],
   "source": [
    "\"\"\"\n",
    "1) Decorator function that prints the:\n",
    "     - real world time taken to run the function,\n",
    "     - process time used to run the function, and\n",
    "     - size of the return value (using sys.getsizeof())\n",
    "2) Applying this decorator to the following functions:\n",
    "    for_loop() - Create an empty list and append the values 1 to 1,000,000 to the list using a for loop\n",
    "    list_comp() - Use list comprehension to create a list of all values 1 to 1,000,000\n",
    "    numpy_list() - Create a numpy array with all values 1 to 1,000,000\n",
    "    pandas_list() - Create a pandas data frame with all values 1 to 1,000,000\n",
    "    generator_list() - Use generator comprehension to create a generator of the values 1 to 1,000,000\n",
    "                (generator comprehension is the same as list comprehension, but uses () instead of [])\n",
    "3) For each function in #2, write a new function that produces the log10 of every number from 1 to 1,000,000.\n",
    "    for_loop_log()\n",
    "    list_com_log()\n",
    "    numpy_list_log()\n",
    "    pandas_list_log()\n",
    "    generator_list_log()\n",
    "\n",
    "\"\"\"\n",
    "\n",
    "import sys\n",
    "import numpy\n",
    "import pandas\n",
    "import time\n",
    "import math\n",
    "\n",
    "def time_decorator(my_def):\n",
    "    def internal_wrapper():\n",
    "        t0 = time.time()\n",
    "        def_result = my_def()\n",
    "        t1 = time.time()\n",
    "        process_time = time.process_time()\n",
    "        print(\"'{}' finished in {} seconds\".format(my_def.__name__, t1-t0))\n",
    "        print(\"'Process time for '{}' is {} seconds\".format(my_def.__name__, process_time))\n",
    "        return \"The size of return is {} \".format(sys.getsizeof(def_result))\n",
    "    return internal_wrapper()\n",
    "\n",
    "def for_loop():\n",
    "    result_list =[]\n",
    "    for i in range(1000000):\n",
    "        result_list.append(i+1)\n",
    "    return result_list\n",
    "\n",
    "def list_comp():\n",
    "    return [i+1 for i in range(1000000)]\n",
    "\n",
    "def numpy_list():\n",
    "    return numpy.arange(1,1000001)\n",
    "\n",
    "def pandas_list():\n",
    "    return pandas.Series(range(1,1000001))\n",
    "\n",
    "def generator_list():\n",
    "    return (i+1 for i in range(1000000))\n",
    "\n",
    "def for_loop_log():\n",
    "    result_list =[]\n",
    "    for i in range(1000000):\n",
    "        result_list.append(math.log(i+1,10))\n",
    "    return result_list\n",
    "\n",
    "def list_com_log():\n",
    "    return [math.log(i+1,10) for i in range(1000000)]\n",
    "\n",
    "def numpy_list_log():\n",
    "    return numpy.log10(numpy.arange(1,1000001))\n",
    "\n",
    "def pandas_list_log():\n",
    "    return pandas.Series(range(1,1000001)).apply(math.log10)\n",
    "\n",
    "def generator_list_log():\n",
    "    return (math.log(i+1,10) for i in range(1000000))\n"
   ]
  }
 ],
 "metadata": {
  "kernelspec": {
   "display_name": "Python 3",
   "language": "python",
   "name": "python3"
  },
  "language_info": {
   "codemirror_mode": {
    "name": "ipython",
    "version": 3
   },
   "file_extension": ".py",
   "mimetype": "text/x-python",
   "name": "python",
   "nbconvert_exporter": "python",
   "pygments_lexer": "ipython3",
   "version": "3.6.0"
  }
 },
 "nbformat": 4,
 "nbformat_minor": 2
}
